{
 "cells": [
  {
   "cell_type": "code",
   "execution_count": 61,
   "metadata": {
    "collapsed": true
   },
   "outputs": [],
   "source": [
    "%matplotlib inline\n",
    "import pandas as pd\n",
    "import matplotlib as plt\n",
    "plt.style.use('seaborn-whitegrid')\n",
    "import numpy as np\n",
    "import sys\n",
    "import json\n",
    "import os\n",
    "import io\n",
    "import re\n",
    "from datetime import datetime, date, time, timedelta\n",
    "import time"
   ]
  },
  {
   "cell_type": "code",
   "execution_count": 62,
   "metadata": {
    "collapsed": true
   },
   "outputs": [],
   "source": [
    "def twitter_time_to_object(time_string):\n",
    "    twitter_format = \"%a %b %d %H:%M:%S %Y\"\n",
    "    match_expression = \"^(.+)\\s(\\+[0-9][0-9][0-9][0-9])\\s([0-9][0-9][0-9][0-9])$\"\n",
    "    match = re.search(match_expression, time_string)\n",
    "    if match is not None:\n",
    "        first_bit = match.group(1)\n",
    "        second_bit = match.group(2)\n",
    "        last_bit = match.group(3)\n",
    "        new_string = first_bit + \" \" + last_bit\n",
    "        date_object = datetime.strptime(new_string, twitter_format)\n",
    "        return date_object\n",
    "\n",
    "def twitter_time_to_unix(time_string):\n",
    "    return time_object_to_unix(twitter_time_to_object(time_string))\n",
    "\n",
    "def time_object_to_unix(time_object):\n",
    "    return int(time_object.strftime(\"%s\"))\n",
    "\n",
    "def get_utc_unix_time():\n",
    "    dts = datetime.utcnow()\n",
    "    epochtime = time.mktime(dts.timetuple())\n",
    "    return epochtime\n",
    "\n",
    "def seconds_since_twitter_time(time_string):\n",
    "    input_time_unix = int(twitter_time_to_unix(time_string))\n",
    "    current_time_unix = int(get_utc_unix_time())\n",
    "    return current_time_unix - input_time_unix"
   ]
  },
  {
   "cell_type": "code",
   "execution_count": 63,
   "metadata": {
    "collapsed": true
   },
   "outputs": [],
   "source": [
    "def save_json(variable, filename):\n",
    "    with io.open(filename, \"w\", encoding=\"utf-8\") as f:\n",
    "        f.write(unicode(json.dumps(variable, indent=4, ensure_ascii=False)))\n",
    "\n",
    "def load_json(filename):\n",
    "    ret = None\n",
    "    if os.path.exists(filename):\n",
    "        try:\n",
    "            with io.open(filename, \"r\", encoding=\"utf-8\") as f:\n",
    "                ret = json.load(f)\n",
    "        except:\n",
    "            pass\n",
    "    return ret"
   ]
  },
  {
   "cell_type": "code",
   "execution_count": 64,
   "metadata": {
    "collapsed": true
   },
   "outputs": [],
   "source": [
    "def get_data(fname):\n",
    "    creation_dates = []\n",
    "    suspicious = []\n",
    "    users = []\n",
    "    details = {}\n",
    "    print(\"Loading \" + fname)\n",
    "    userlist = load_json(fname)\n",
    "    if userlist is not None and len(userlist) > 0:\n",
    "        print(\"Parsing \" + fname)\n",
    "        for user in userlist:\n",
    "            users.append(user[\"screen_name\"])\n",
    "            fields = [\"screen_name\",\n",
    "                      \"description\",\n",
    "                      \"friends_count\",\n",
    "                      \"followers_count\",\n",
    "                      \"name\",\n",
    "                      \"location\",\n",
    "                      \"favourites_count\",\n",
    "                      \"statuses_count\",\n",
    "                      \"created_at\",\n",
    "                      \"id_str\",\n",
    "                      \"protected\",\n",
    "                      \"verified\"]\n",
    "            entry = {}\n",
    "            for f in fields:\n",
    "                if f in user:\n",
    "                    entry[f] = user[f]\n",
    "            acct_age = seconds_since_twitter_time(user[\"created_at\"])\n",
    "            if acct_age > 0:\n",
    "                acct_age_days = float(acct_age)/86400.00\n",
    "                entry[\"account_age_days\"] = acct_age_days\n",
    "                tweets_per_second = float(user[\"statuses_count\"])/float(acct_age)\n",
    "                tweets_per_day = tweets_per_second * (86400)\n",
    "                entry[\"tweets_per_day\"] = tweets_per_day\n",
    "            details[user[\"screen_name\"]] = entry\n",
    "    print(\"Done.\")\n",
    "    print(\"Found \" + str(len(users)) + \" accounts.\")\n",
    "    return users, details"
   ]
  },
  {
   "cell_type": "code",
   "execution_count": 98,
   "metadata": {},
   "outputs": [],
   "source": [
    "#names = [\"greensboro_nc\", \"_north_carolina\", \"kimgarst\", \"thomaspower\", \"marshawright\", \"marshacollier\"]\n",
    "names = [\"kimgarst\", \"thomaspower\", \"marshawright\", \"marshacollier\"]"
   ]
  },
  {
   "cell_type": "code",
   "execution_count": 84,
   "metadata": {
    "collapsed": true
   },
   "outputs": [],
   "source": [
    "def get_details(name):\n",
    "    filename = os.path.join(\"captures\", \"temp\", name, name)\n",
    "    if os.path.exists(filename):\n",
    "        return get_data(filename)"
   ]
  },
  {
   "cell_type": "code",
   "execution_count": 96,
   "metadata": {},
   "outputs": [],
   "source": [
    "def compare_sets(dataset, namelist):\n",
    "    userlists = []\n",
    "    for n in namelist:\n",
    "        if n in dataset:\n",
    "            userlists.append(set(dataset[n][\"users\"]))\n",
    "    return list(set.intersection(*userlists))"
   ]
  },
  {
   "cell_type": "code",
   "execution_count": 100,
   "metadata": {},
   "outputs": [
    {
     "name": "stdout",
     "output_type": "stream",
     "text": [
      "Getting data for kimgarst\n",
      "Loading captures/temp/kimgarst/kimgarst\n",
      "Parsing captures/temp/kimgarst/kimgarst\n",
      "Done.\n",
      "Found 596800 accounts.\n",
      "Getting data for thomaspower\n",
      "Loading captures/temp/thomaspower/thomaspower\n",
      "Parsing captures/temp/thomaspower/thomaspower\n",
      "Done.\n",
      "Found 316600 accounts.\n",
      "Getting data for marshawright\n",
      "Loading captures/temp/marshawright/marshawright\n",
      "Parsing captures/temp/marshawright/marshawright\n",
      "Done.\n",
      "Found 558200 accounts.\n",
      "Getting data for marshacollier\n",
      "Loading captures/temp/marshacollier/marshacollier\n",
      "Parsing captures/temp/marshacollier/marshacollier\n",
      "Done.\n",
      "Found 227600 accounts.\n"
     ]
    }
   ],
   "source": [
    "datasets = {}\n",
    "for n in names:\n",
    "    print(\"Getting data for \" + n)\n",
    "    datasets[n] = {}\n",
    "    users, details = get_details(n)\n",
    "    datasets[n][\"users\"] = users\n",
    "    datasets[n][\"details\"] = details"
   ]
  },
  {
   "cell_type": "code",
   "execution_count": 102,
   "metadata": {},
   "outputs": [
    {
     "name": "stdout",
     "output_type": "stream",
     "text": [
      "Intersection between kimgarst,thomaspower contained 20750 accounts.\n",
      "Intersection between kimgarst,marshawright contained 104315 accounts.\n",
      "Intersection between kimgarst,marshacollier contained 91209 accounts.\n",
      "Intersection between thomaspower,marshawright contained 11718 accounts.\n",
      "Intersection between thomaspower,marshacollier contained 12942 accounts.\n",
      "Intersection between marshawright,marshacollier contained 37662 accounts.\n",
      "Intersection between kimgarst,thomaspower,marshawright contained 6282 accounts.\n",
      "Intersection between kimgarst,thomaspower,marshacollier contained 8154 accounts.\n",
      "Intersection between kimgarst,marshawright,marshacollier contained 27361 accounts.\n",
      "Intersection between thomaspower,marshawright,marshacollier contained 4334 accounts.\n",
      "Intersection between kimgarst,thomaspower,marshawright,marshacollier contained 4334 accounts.\n"
     ]
    }
   ],
   "source": [
    "from itertools import combinations\n",
    "for x in range(2, len(names)):\n",
    "    for comb in combinations(names, x):\n",
    "        intersection = compare_sets(datasets, comb)\n",
    "        print(\"Intersection between \" + \",\".join(comb) + \" contained \" + str(len(intersection)) + \" accounts.\")\n",
    "all_intersection = compare_sets(datasets, names)\n",
    "print(\"Intersection between \" + \",\".join(names) + \" contained \" + str(len(intersection)) + \" accounts.\")"
   ]
  },
  {
   "cell_type": "code",
   "execution_count": 106,
   "metadata": {},
   "outputs": [
    {
     "name": "stdout",
     "output_type": "stream",
     "text": [
      "Comparing kimgarst,marshawright\n",
      "Getting details.\n",
      "Got 104315 accounts.\n",
      "Saving: int_details_kimgarst_marshawright.csv\n",
      "Done saving.\n",
      "Comparing kimgarst,marshacollier\n",
      "Getting details.\n",
      "Got 91209 accounts.\n",
      "Saving: int_details_kimgarst_marshacollier.csv\n",
      "Done saving.\n",
      "Comparing kimgarst,marshawright,marshacollier\n",
      "Getting details.\n",
      "Got 27361 accounts.\n",
      "Saving: int_details_kimgarst_marshawright_marshacollier.csv\n",
      "Done saving.\n",
      "All done.\n"
     ]
    }
   ],
   "source": [
    "pairs = [[\"kimgarst\",\"marshawright\"], [\"kimgarst\", \"marshacollier\"], [\"kimgarst\", \"marshawright\", \"marshacollier\"]]\n",
    "for p in pairs:\n",
    "    print(\"Comparing \" + \",\".join(p))\n",
    "    intersection_names = compare_sets(datasets, p)\n",
    "    intersection_details = []\n",
    "    print(\"Getting details.\")\n",
    "    print(\"Got \" + str(len(intersection_names)) + \" accounts.\")\n",
    "    for name in intersection_names:\n",
    "        intersection_details.append(datasets[p[0]][\"details\"][name])\n",
    "    df = pd.DataFrame(intersection_details)\n",
    "    filename = \"int_details_\" + \"_\".join(p) + \".csv\"\n",
    "    print(\"Saving: \" + filename)\n",
    "    df.to_csv(filename, encoding=\"utf-8\")\n",
    "    print(\"Done saving.\")\n",
    "print(\"All done.\")"
   ]
  },
  {
   "cell_type": "code",
   "execution_count": 58,
   "metadata": {},
   "outputs": [],
   "source": []
  },
  {
   "cell_type": "code",
   "execution_count": null,
   "metadata": {
    "collapsed": true
   },
   "outputs": [],
   "source": []
  }
 ],
 "metadata": {
  "kernelspec": {
   "display_name": "Python 2",
   "language": "python",
   "name": "python2"
  },
  "language_info": {
   "codemirror_mode": {
    "name": "ipython",
    "version": 2
   },
   "file_extension": ".py",
   "mimetype": "text/x-python",
   "name": "python",
   "nbconvert_exporter": "python",
   "pygments_lexer": "ipython2",
   "version": "2.7.13"
  }
 },
 "nbformat": 4,
 "nbformat_minor": 2
}
