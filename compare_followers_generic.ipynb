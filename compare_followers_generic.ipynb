{
 "cells": [
  {
   "cell_type": "markdown",
   "metadata": {},
   "source": [
    "In this example, data files are named \"screen_name\" and stored in a subdirectory : /captures/temp/followers/\"screen_name\"\n",
    "\n",
    "(so change the path accordingly)\n",
    "\n",
    "Each data file is a json containing a list of dicts (one dict for each follower account). These dicts are the direct output from Twitter API when querying for accounts/followers/friends."
   ]
  },
  {
   "cell_type": "code",
   "execution_count": 1,
   "metadata": {
    "collapsed": true
   },
   "outputs": [],
   "source": [
    "%matplotlib inline\n",
    "import pandas as pd\n",
    "import matplotlib as plt\n",
    "plt.style.use('seaborn-whitegrid')\n",
    "import numpy as np\n",
    "import sys\n",
    "import json\n",
    "import os\n",
    "import io\n",
    "import re\n",
    "from datetime import datetime, date, time, timedelta\n",
    "import time"
   ]
  },
  {
   "cell_type": "code",
   "execution_count": 2,
   "metadata": {
    "collapsed": true
   },
   "outputs": [],
   "source": [
    "def twitter_time_to_object(time_string):\n",
    "    twitter_format = \"%a %b %d %H:%M:%S %Y\"\n",
    "    match_expression = \"^(.+)\\s(\\+[0-9][0-9][0-9][0-9])\\s([0-9][0-9][0-9][0-9])$\"\n",
    "    match = re.search(match_expression, time_string)\n",
    "    if match is not None:\n",
    "        first_bit = match.group(1)\n",
    "        second_bit = match.group(2)\n",
    "        last_bit = match.group(3)\n",
    "        new_string = first_bit + \" \" + last_bit\n",
    "        date_object = datetime.strptime(new_string, twitter_format)\n",
    "        return date_object\n",
    "\n",
    "def twitter_time_to_unix(time_string):\n",
    "    return time_object_to_unix(twitter_time_to_object(time_string))\n",
    "\n",
    "def time_object_to_unix(time_object):\n",
    "    return int(time_object.strftime(\"%s\"))\n",
    "\n",
    "def get_utc_unix_time():\n",
    "    dts = datetime.utcnow()\n",
    "    epochtime = time.mktime(dts.timetuple())\n",
    "    return epochtime\n",
    "\n",
    "def seconds_since_twitter_time(time_string):\n",
    "    input_time_unix = int(twitter_time_to_unix(time_string))\n",
    "    current_time_unix = int(get_utc_unix_time())\n",
    "    return current_time_unix - input_time_unix"
   ]
  },
  {
   "cell_type": "code",
   "execution_count": 3,
   "metadata": {
    "collapsed": true
   },
   "outputs": [],
   "source": [
    "def save_json(variable, filename):\n",
    "    with io.open(filename, \"w\", encoding=\"utf-8\") as f:\n",
    "        f.write(unicode(json.dumps(variable, indent=4, ensure_ascii=False)))\n",
    "\n",
    "def load_json(filename):\n",
    "    ret = None\n",
    "    if os.path.exists(filename):\n",
    "        try:\n",
    "            with io.open(filename, \"r\", encoding=\"utf-8\") as f:\n",
    "                ret = json.load(f)\n",
    "        except:\n",
    "            pass\n",
    "    return ret"
   ]
  },
  {
   "cell_type": "code",
   "execution_count": 4,
   "metadata": {
    "collapsed": true
   },
   "outputs": [],
   "source": [
    "def get_data(fname):\n",
    "    creation_dates = []\n",
    "    suspicious = []\n",
    "    users = []\n",
    "    details = {}\n",
    "    print(\"Loading \" + fname)\n",
    "    userlist = load_json(fname)\n",
    "    if userlist is not None and len(userlist) > 0:\n",
    "        print(\"Parsing \" + fname)\n",
    "        for user in userlist:\n",
    "            users.append(user[\"screen_name\"])\n",
    "            fields = [\"screen_name\",\n",
    "                      \"description\",\n",
    "                      \"friends_count\",\n",
    "                      \"followers_count\",\n",
    "                      \"name\",\n",
    "                      \"lang\",\n",
    "                      \"location\",\n",
    "                      \"favourites_count\",\n",
    "                      \"statuses_count\",\n",
    "                      \"created_at\",\n",
    "                      \"id_str\",\n",
    "                      \"protected\",\n",
    "                      \"verified\"]\n",
    "            entry = {}\n",
    "            for f in fields:\n",
    "                if f in user:\n",
    "                    entry[f] = user[f]\n",
    "            acct_age = seconds_since_twitter_time(user[\"created_at\"])\n",
    "            if acct_age > 0:\n",
    "                acct_age_days = float(acct_age)/86400.00\n",
    "                entry[\"account_age_days\"] = acct_age_days\n",
    "                tweets_per_second = float(user[\"statuses_count\"])/float(acct_age)\n",
    "                tweets_per_day = tweets_per_second * (86400)\n",
    "                entry[\"tweets_per_day\"] = tweets_per_day\n",
    "            details[user[\"screen_name\"]] = entry\n",
    "    print(\"Done.\")\n",
    "    print(\"Found \" + str(len(users)) + \" accounts.\")\n",
    "    return users, details"
   ]
  },
  {
   "cell_type": "code",
   "execution_count": 5,
   "metadata": {
    "collapsed": true
   },
   "outputs": [],
   "source": [
    "names = [\"screen_name_1\", \"screen_name_2\", \"screen_name_3\"]"
   ]
  },
  {
   "cell_type": "code",
   "execution_count": 6,
   "metadata": {
    "collapsed": true
   },
   "outputs": [],
   "source": [
    "def get_details(name):\n",
    "    filename = os.path.join(\"captures\", \"temp\", \"followers\", name, name)\n",
    "    if os.path.exists(filename):\n",
    "        return get_data(filename)"
   ]
  },
  {
   "cell_type": "code",
   "execution_count": 7,
   "metadata": {
    "collapsed": true
   },
   "outputs": [],
   "source": [
    "def compare_sets(dataset, namelist):\n",
    "    userlists = []\n",
    "    for n in namelist:\n",
    "        if n in dataset:\n",
    "            userlists.append(set(dataset[n][\"users\"]))\n",
    "    return list(set.intersection(*userlists))"
   ]
  },
  {
   "cell_type": "code",
   "execution_count": null,
   "metadata": {},
   "outputs": [],
   "source": [
    "datasets = {}\n",
    "for n in names:\n",
    "    print(\"Getting data for \" + n)\n",
    "    datasets[n] = {}\n",
    "    users, details = get_details(n)\n",
    "    datasets[n][\"users\"] = users\n",
    "    datasets[n][\"details\"] = details\n",
    "print(\"Done.\")"
   ]
  },
  {
   "cell_type": "code",
   "execution_count": null,
   "metadata": {},
   "outputs": [],
   "source": [
    "from itertools import combinations\n",
    "for x in range(2, len(names)):\n",
    "    for comb in combinations(names, x):\n",
    "        intersection = compare_sets(datasets, comb)\n",
    "        print(\"Intersection between \" + \",\".join(comb) + \" contained \" + str(len(intersection)) + \" accounts.\")\n",
    "all_intersection = compare_sets(datasets, names)\n",
    "print(\"Intersection between \" + \",\".join(names) + \" contained \" + str(len(all_intersection)) + \" accounts.\")"
   ]
  },
  {
   "cell_type": "code",
   "execution_count": null,
   "metadata": {},
   "outputs": [],
   "source": [
    "pairs = [[\"screen_name_1\", \"screen_name_2\"],\n",
    "         [\"screen_name_1\", \"screen_name_3\"],\n",
    "         [\"screen_name_2\", \"screen_name_3\"]]\n",
    "for p in pairs:\n",
    "    print(\"Comparing \" + \",\".join(p))\n",
    "    intersection_names = compare_sets(datasets, p)\n",
    "    intersection_details = []\n",
    "    print(\"Getting details.\")\n",
    "    print(\"Got \" + str(len(intersection_names)) + \" accounts.\")\n",
    "    save_json(intersection_names, \"namelist.json\")\n",
    "    for name in intersection_names:\n",
    "        intersection_details.append(datasets[p[0]][\"details\"][name])\n",
    "    df = pd.DataFrame(intersection_details)\n",
    "    filename = \"int_details_\" + \"_\".join(p) + \".csv\"\n",
    "    print(\"Saving: \" + filename)\n",
    "    df.to_csv(filename, encoding=\"utf-8\")\n",
    "    print(\"Done saving.\")\n",
    "print(\"All done.\")"
   ]
  },
  {
   "cell_type": "code",
   "execution_count": 58,
   "metadata": {
    "collapsed": true
   },
   "outputs": [],
   "source": []
  }
 ],
 "metadata": {
  "kernelspec": {
   "display_name": "Python 2",
   "language": "python",
   "name": "python2"
  },
  "language_info": {
   "codemirror_mode": {
    "name": "ipython",
    "version": 2
   },
   "file_extension": ".py",
   "mimetype": "text/x-python",
   "name": "python",
   "nbconvert_exporter": "python",
   "pygments_lexer": "ipython2",
   "version": "2.7.13"
  }
 },
 "nbformat": 4,
 "nbformat_minor": 2
}
